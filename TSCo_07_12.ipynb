{
  "nbformat": 4,
  "nbformat_minor": 0,
  "metadata": {
    "colab": {
      "provenance": [],
      "authorship_tag": "ABX9TyODHgp2juYOobNYbN1Pb8la",
      "include_colab_link": true
    },
    "kernelspec": {
      "name": "python3",
      "display_name": "Python 3"
    },
    "language_info": {
      "name": "python"
    }
  },
  "cells": [
    {
      "cell_type": "markdown",
      "metadata": {
        "id": "view-in-github",
        "colab_type": "text"
      },
      "source": [
        "<a href=\"https://colab.research.google.com/github/canerskrc/TSCo_TF_Egitim/blob/main/TSCo_07_12.ipynb\" target=\"_parent\"><img src=\"https://colab.research.google.com/assets/colab-badge.svg\" alt=\"Open In Colab\"/></a>"
      ]
    },
    {
      "cell_type": "markdown",
      "source": [
        "# Tensorflow Nedir ?"
      ],
      "metadata": {
        "id": "Rzi_qOZuOygR"
      }
    },
    {
      "cell_type": "markdown",
      "source": [
        "Hem GPU hem de TPU( Tensor Processing Unit ) entegre bir yapı\n",
        "\n",
        "Hem mobil ( TF Lite ) hem webde çalışabilir ML-DL algoritmaları\n",
        "\n",
        "Tensor  = Çok boyutlu dizi. ( skaler, vektör, matris )\n",
        "\n",
        "**Mimari Yapı**\n",
        "\n",
        "Tensor İşleme : Bir grafik model kullanarak tensorlar işlenir. Graph, düğümleri ve kenarlar içerir.\n",
        "\n",
        "Dinamik Hesaplama Graphs : Hata ayıklama kolaylaşır ve kod yazarken grafikler oluşturulur.\n",
        "\n",
        "TFLite = Mobil\n",
        "\n",
        "Keras API = High level DL models\n",
        "\n",
        "TF.js = web sürümleri için tarayıcıda DL modellerini çalıştırır.\n",
        "\n",
        "Tensorboard = Eğitim süreçlerini görselleştirir ve dashboard sunar.\n",
        "\n",
        "Günlük Hayat Kullanımı = Netflix, AirBNB, Tesla, Google Translate\n",
        "\n"
      ],
      "metadata": {
        "id": "6ToVuXPuO1jA"
      }
    },
    {
      "cell_type": "code",
      "execution_count": 2,
      "metadata": {
        "colab": {
          "base_uri": "https://localhost:8080/"
        },
        "id": "pqgaLnf0OgxC",
        "outputId": "98986a0e-1438-4d5f-8a4a-7d9858626a8e"
      },
      "outputs": [
        {
          "output_type": "stream",
          "name": "stderr",
          "text": [
            "/usr/local/lib/python3.10/dist-packages/keras/src/layers/core/dense.py:87: UserWarning: Do not pass an `input_shape`/`input_dim` argument to a layer. When using Sequential models, prefer using an `Input(shape)` object as the first layer in the model instead.\n",
            "  super().__init__(activity_regularizer=activity_regularizer, **kwargs)\n"
          ]
        },
        {
          "output_type": "stream",
          "name": "stdout",
          "text": [
            "\u001b[1m1/1\u001b[0m \u001b[32m━━━━━━━━━━━━━━━━━━━━\u001b[0m\u001b[37m\u001b[0m \u001b[1m0s\u001b[0m 36ms/step\n",
            "Yeni ürünün tahmini fiyatı : 59.00 TL\n"
          ]
        }
      ],
      "source": [
        "import tensorflow as tf\n",
        "import numpy as np\n",
        "\n",
        "# Girdiler : Ürün ağırlığı ( kg), ürün hacmi(litre)\n",
        "\n",
        "X = np.array([[1.0,0.5],[2.0,1.0],[3.0,1.5],[4.0,2.0],[5.0,2.5]], dtype=np.float32)\n",
        "#çıktılar : ürün fiyatı(TL)\n",
        "y=np.array([10.0,20.0,30.0,40.0,50.0], dtype=np.float32)\n",
        "\n",
        "model = tf.keras.Sequential([\n",
        "    tf.keras.layers.Dense(1, input_shape=(2,))\n",
        "])\n",
        "\n",
        "model.compile(optimizer = 'sgd', loss='mse')\n",
        "\n",
        "model.fit(X,y, epochs = 100, verbose=0)\n",
        "\n",
        "new_product = np.array([[6.0,3.0]], dtype=np.float32)\n",
        "\n",
        "predicted_price= model.predict(new_product)\n",
        "\n",
        "print(f\"Yeni ürünün tahmini fiyatı : {predicted_price[0][0]:.2f} TL\")"
      ]
    },
    {
      "cell_type": "code",
      "source": [],
      "metadata": {
        "id": "5WANwSd4U3r-"
      },
      "execution_count": null,
      "outputs": []
    }
  ]
}